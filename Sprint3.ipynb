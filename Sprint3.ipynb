{
  "nbformat": 4,
  "nbformat_minor": 0,
  "metadata": {
    "colab": {
      "provenance": [],
      "toc_visible": true,
      "authorship_tag": "ABX9TyNePlALzG+fMbPp8z8LGXr1",
      "include_colab_link": true
    },
    "kernelspec": {
      "name": "python3",
      "display_name": "Python 3"
    },
    "language_info": {
      "name": "python"
    }
  },
  "cells": [
    {
      "cell_type": "markdown",
      "metadata": {
        "id": "view-in-github",
        "colab_type": "text"
      },
      "source": [
        "<a href=\"https://colab.research.google.com/github/wabastos/Engenharia-de-Dados/blob/main/Sprint3.ipynb\" target=\"_parent\"><img src=\"https://colab.research.google.com/assets/colab-badge.svg\" alt=\"Open In Colab\"/></a>"
      ]
    },
    {
      "cell_type": "markdown",
      "source": [
        "# INTRODUÇÃO\n",
        "\n",
        "Este trabalho busca atender aos Requisitos para o Desenvolvimento do MVP referente ao Sprint 3 do Módulo Engenharia de Dados do curso de pós graduação da PUC-RIO, com ênfase deformação em Ciência de Dados e Analytics.\n",
        "\n",
        "\n",
        "\n",
        "O trabalho consiste em construir um pipeline de dados orientado as fases de busca, modelagem, carga e análise de dados.  "
      ],
      "metadata": {
        "id": "aocWcnZUvy0d"
      }
    },
    {
      "cell_type": "markdown",
      "source": [
        "# Objetivo Principal\n",
        "\n",
        "Construir um pipeline de análise de dados para os indicadores de qualidade, RQUAL da Anatel, definidos para os serviços de Telecomunicações, sobretudo para o serviço de telefonia móvel ou Serviço Móvel Pessoal (SMP).   \n",
        "\n",
        "Os indicadores e dados utilizados nesse trabalho podem ser encontrados no portal da Agência Nacional de Telecomunicações - ANATEL no link  Anatel — Anatel — Agência Nacional de Telecomunicações (www.gov.br), e mais especificamente no link Anatel - Indicadores - Telefonia Móvel (https://informacoes.anatel.gov.br/paineis/qualidade/indicadores-telefonia-movel).\n",
        "\n",
        "A definição dos indicadores podem ser encontradas em no documento Manual Operacional (MOP) e o Documento de Valores de Referência (DVR) disponibilizado através do Sobre o Sobre o RQUAL — Agência Nacional de Telecomunicações (https://www.gov.br/anatel/pt-br/dados/qualidade/qualidade-dos-servicos/sobre-o-rqual), acessando o documento MOP Versão 2.1 (https://sistemas.anatel.gov.br/anexar-api/publico/anexos/download/d7ca2180dbad14e59e27176fa8b43517).\n",
        "\n",
        "Nesse trabalho focaremos nos Indicadores de Qualidade de Serviço - IQS, resumido no infografo com os principais conceitos/aspectos do RQUAL.\n",
        "\n",
        "![Figura_1](https://github.com/wabastos/Engenharia-de-Dados/blob/main/Infografo%20Anatel-Rqual.png)\n",
        "\n"
      ],
      "metadata": {
        "id": "2gBGhP44wrn0"
      }
    }
  ]
}